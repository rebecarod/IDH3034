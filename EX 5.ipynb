{
 "cells": [
  {
   "cell_type": "code",
   "execution_count": 1,
   "metadata": {},
   "outputs": [
    {
     "name": "stdout",
     "output_type": "stream",
     "text": [
      "Let's talk about Zed A. Shaw.\n",
      "He's 74 inches tall.\n",
      "He's 180 pounds heavy.\n",
      "Actually that's not too heavy.\n",
      "He's got Blue eyes and Brown hair\n",
      "His teeth are usually White depending on the coffee.\n",
      "If I add 35, 74, and 180, I get 289.\n",
      "Zed A. Shaw is 4736 centimeters tall.\n",
      "Zed A. Shaw is 81.64746439263358 kilograms heavy.\n",
      "Zed A. Shaw is 82 kilograms heavy.\n"
     ]
    }
   ],
   "source": [
    "# Assign variable my name to Zed A. Shaw.\n",
    "name = \"Zed A. Shaw\"\n",
    "\n",
    "# The author claims to be 35 years old.\n",
    "age = 35 # Not a lie\n",
    "\n",
    "# The author is 74 inches tall\n",
    "height = 74 # inches\n",
    "\n",
    "# The author weighs 180 pounds\n",
    "weight = 180 # lbs\n",
    "\n",
    "# The author has blue eyes\n",
    "eyes = 'Blue'\n",
    "\n",
    "# The author has white teeth\n",
    "teeth = 'White'\n",
    "\n",
    "# The author has brown hair\n",
    "hair = 'Brown'\n",
    "\n",
    "print(f\"Let's talk about {name}.\")\n",
    "print(f\"He's {height} inches tall.\")\n",
    "print(f\"He's {weight} pounds heavy.\")\n",
    "print(\"Actually that's not too heavy.\")\n",
    "print(f\"He's got {eyes} eyes and {hair} hair\")\n",
    "print(f\"His teeth are usually {teeth} depending on the coffee.\")\n",
    "\n",
    "total = age + height + weight\n",
    "\n",
    "print(f\"If I add {age}, {height}, and {weight}, I get {total}.\")\n",
    "\n",
    "inches = height\n",
    "\n",
    "inches_to_cm = inches * 64\n",
    "\n",
    "lbs_to_kgs = weight / 2.2046\n",
    "\n",
    "\n",
    "print(f\"{name} is {inches_to_cm} centimeters tall.\")\n",
    "\n",
    "# Round() will round your numbers\n",
    "print(f\"{name} is {lbs_to_kgs} kilograms heavy.\")\n",
    "print(f\"{name} is {round(lbs_to_kgs)} kilograms heavy.\")"
   ]
  },
  {
   "cell_type": "code",
   "execution_count": null,
   "metadata": {},
   "outputs": [],
   "source": []
  }
 ],
 "metadata": {
  "kernelspec": {
   "display_name": "Python 3",
   "language": "python",
   "name": "python3"
  },
  "language_info": {
   "codemirror_mode": {
    "name": "ipython",
    "version": 3
   },
   "file_extension": ".py",
   "mimetype": "text/x-python",
   "name": "python",
   "nbconvert_exporter": "python",
   "pygments_lexer": "ipython3",
   "version": "3.6.4"
  }
 },
 "nbformat": 4,
 "nbformat_minor": 2
}
