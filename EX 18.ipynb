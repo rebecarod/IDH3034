{
 "cells": [
  {
   "cell_type": "code",
   "execution_count": null,
   "metadata": {},
   "outputs": [],
   "source": [
    "# Function that takes a variable number of parameters\n",
    "def print_two(*args):\n",
    "    # The arg1, arg2, arg3 specify the number of parameters\n",
    "    arg1, arg2, arg3 = args\n",
    "    print(f\"arg1: {arg1}, arg2: {arg2}, arg3: {arg3}\")\n",
    "\n",
    "# Function with two parameters\n",
    "def print_two_again(arg1, arg2):\n",
    "    print(f\"arg1: {arg1}, arg2: {arg2}\")\n",
    "    \n",
    "# Function with one argument\n",
    "def print_one(arg1):\n",
    "    print(f\"arg1: {arg1}\")\n",
    "    \n",
    "# Function with no arguments\n",
    "def print_none():\n",
    "    print(\"I got nothing.\")\n",
    "\n",
    "# Calls the functions\n",
    "print_two(\"Zed\",\"Shaw\", \"Suprise third\")\n",
    "print_two_again(\"Zed\", \"Shaw\")\n",
    "print_one(\"First!\")\n",
    "print_none()"
   ]
  }
 ],
 "metadata": {
  "kernelspec": {
   "display_name": "Python 3",
   "language": "python",
   "name": "python3"
  },
  "language_info": {
   "codemirror_mode": {
    "name": "ipython",
    "version": 3
   },
   "file_extension": ".py",
   "mimetype": "text/x-python",
   "name": "python",
   "nbconvert_exporter": "python",
   "pygments_lexer": "ipython3",
   "version": "3.6.4"
  }
 },
 "nbformat": 4,
 "nbformat_minor": 2
}
