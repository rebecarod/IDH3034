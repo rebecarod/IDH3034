{
 "cells": [
  {
   "cell_type": "code",
   "execution_count": 1,
   "metadata": {},
   "outputs": [
    {
     "name": "stdout",
     "output_type": "stream",
     "text": [
      "Here are the days:  Mon Tue Wed Thu Fri Sat Sun\n",
      "Here are the months:  \n",
      "Jan\n",
      "Feb\n",
      "Mar\n",
      "Apr\n",
      "May\n",
      "Jun\n",
      "Jul\n",
      "Aug\n",
      "\n",
      "There is something going on here.\n",
      "With the three double-quotes.\n",
      "We'll be able to type as much as we like.\n",
      "Even 4 lines is we want, or 5, or 6.\n"
     ]
    }
   ],
   "source": [
    "days = \"Mon Tue Wed Thu Fri Sat Sun\"\n",
    "months = \"\\nJan\\nFeb\\nMar\\nApr\\nMay\\nJun\\nJul\\nAug\"\n",
    "\n",
    "print(\"Here are the days: \", days)\n",
    "print(\"Here are the months: \", months)\n",
    "\n",
    "print(\"\"\"\n",
    "There is something going on here.\n",
    "With the three double-quotes.\n",
    "We'll be able to type as much as we like.\n",
    "Even 4 lines is we want, or 5, or 6.\"\"\")"
   ]
  },
  {
   "cell_type": "code",
   "execution_count": null,
   "metadata": {},
   "outputs": [],
   "source": []
  }
 ],
 "metadata": {
  "kernelspec": {
   "display_name": "Python 3",
   "language": "python",
   "name": "python3"
  },
  "language_info": {
   "codemirror_mode": {
    "name": "ipython",
    "version": 3
   },
   "file_extension": ".py",
   "mimetype": "text/x-python",
   "name": "python",
   "nbconvert_exporter": "python",
   "pygments_lexer": "ipython3",
   "version": "3.6.4"
  }
 },
 "nbformat": 4,
 "nbformat_minor": 2
}
