{
 "cells": [
  {
   "cell_type": "code",
   "execution_count": 1,
   "metadata": {},
   "outputs": [
    {
     "name": "stdout",
     "output_type": "stream",
     "text": [
      "We should take the cars.\n",
      "Maybe we could take the trucks.\n",
      "Alright, lets just take the trucks.\n"
     ]
    }
   ],
   "source": [
    "# Assign variables\n",
    "people = 30\n",
    "cars = 40\n",
    "trucks = 15\n",
    "\n",
    "# If number of cars > number of people, we should take the cars\n",
    "if cars > people:\n",
    "    print(\"We should take the cars.\")\n",
    "    \n",
    "# Else if number of cars is less than the number of people, we should not take the cars.\n",
    "elif cars < people:\n",
    "    print(\"We should not take the cars.\")\n",
    "\n",
    "# Else if the number of cars is equal to the number of people, we cannot decide\n",
    "else:\n",
    "    print(\"We can't decide.\")\n",
    "    \n",
    "# IF the number of trucks is greater than the number of cars, that is too many trucks.\n",
    "if trucks > cars:\n",
    "    print(\"That's too many trucks.\")\n",
    "    \n",
    "# If the number of trucks is less than the number of cars, we should take the trucks.\n",
    "if trucks < cars:\n",
    "    print(\"Maybe we could take the trucks.\")\n",
    "\n",
    "# If the number of trucks equals the number of cars, we still can't decide.\n",
    "else:\n",
    "    print(\"We still can't decide.\")\n",
    "    \n",
    "# If the number of people is greater than the number of trucks, we should take the trucks\n",
    "if people > trucks:\n",
    "    print(\"Alright, lets just take the trucks.\")\n",
    "    \n",
    "# If the number of people is less than or equal to the number of trucks, we should stay home.\n",
    "else:\n",
    "    print(\"Fine, let's stay home then.\")\n",
    "    \n",
    "    "
   ]
  },
  {
   "cell_type": "code",
   "execution_count": null,
   "metadata": {},
   "outputs": [],
   "source": []
  }
 ],
 "metadata": {
  "kernelspec": {
   "display_name": "Python 3",
   "language": "python",
   "name": "python3"
  },
  "language_info": {
   "codemirror_mode": {
    "name": "ipython",
    "version": 3
   },
   "file_extension": ".py",
   "mimetype": "text/x-python",
   "name": "python",
   "nbconvert_exporter": "python",
   "pygments_lexer": "ipython3",
   "version": "3.6.4"
  }
 },
 "nbformat": 4,
 "nbformat_minor": 2
}
