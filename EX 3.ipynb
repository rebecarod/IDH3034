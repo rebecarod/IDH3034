{
 "cells": [
  {
   "cell_type": "code",
   "execution_count": 1,
   "metadata": {},
   "outputs": [
    {
     "name": "stdout",
     "output_type": "stream",
     "text": [
      "I will now count my chickens:\n",
      "Hens 30.0\n",
      "Roosters 97.0\n",
      "Now I will count the eggs\n",
      "6.75\n",
      "Is it true that 3 + 2 < 5 - 7?\n",
      "False\n",
      "What is 3 + 2? 5.0\n",
      "What is 5 - 7? -2.0\n",
      "Oh, that's why it's False.\n",
      "How about some more.\n",
      "Is is greater? True\n",
      "Is it greater or equal? True\n",
      "Is it less or equal? False\n"
     ]
    }
   ],
   "source": [
    "# Intro sentence detailing what you are about to do. \n",
    "print(\"I will now count my chickens:\")\n",
    "\n",
    "# Count your hens\n",
    "print(\"Hens\", 25 + 30 / 6)\n",
    "\n",
    "# Count your roosters\n",
    "print(\"Roosters\", 100.0 - 25.0 * 3.0 % 4.0)\n",
    "\n",
    "# Tell the reader you will now count your eggs \n",
    "print(\"Now I will count the eggs\")\n",
    "\n",
    "# Print your number of eggs. Decimal?!\n",
    "print(3 + 2 + 1 - 5+ 4 % 2 - 1 / 4 + 6)\n",
    "\n",
    "# Pose a question\n",
    "print(\"Is it true that 3 + 2 < 5 - 7?\")\n",
    "\n",
    "# Boolean statement that answers your previous question\n",
    "print(3 + 2 < 5 - 7)\n",
    "\n",
    "# Ask another question. This prints out the value of the first part of the inequality posed in the original question.\n",
    "print(\"What is 3 + 2?\", 3.0 + 2.0)\n",
    "\n",
    "# Ask yet another question. This prints out the value of the second part of the inequality posed in the original question.\n",
    "print(\"What is 5 - 7?\", 5.0 - 7.0)\n",
    "\n",
    "print (\"Oh, that's why it's False.\")\n",
    "\n",
    "print(\"How about some more.\")\n",
    "\n",
    "# Is 5 greater than 2?\n",
    "print(\"Is is greater?\", 5 > -2)\n",
    "\n",
    "# Is 5 greater than or equal to 2?\n",
    "print(\"Is it greater or equal?\", 5 >= -2)\n",
    "\n",
    "# Is 5 less than or equal to 2?\n",
    "print(\"Is it less or equal?\", 5 <= -2)"
   ]
  },
  {
   "cell_type": "code",
   "execution_count": null,
   "metadata": {},
   "outputs": [],
   "source": []
  }
 ],
 "metadata": {
  "kernelspec": {
   "display_name": "Python 3",
   "language": "python",
   "name": "python3"
  },
  "language_info": {
   "codemirror_mode": {
    "name": "ipython",
    "version": 3
   },
   "file_extension": ".py",
   "mimetype": "text/x-python",
   "name": "python",
   "nbconvert_exporter": "python",
   "pygments_lexer": "ipython3",
   "version": "3.6.4"
  }
 },
 "nbformat": 4,
 "nbformat_minor": 2
}
