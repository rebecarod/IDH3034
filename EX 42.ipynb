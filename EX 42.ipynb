{
 "cells": [
  {
   "cell_type": "code",
   "execution_count": null,
   "metadata": {},
   "outputs": [],
   "source": [
    "## Animal is-a object (yes, sort of confusing) look at the extra credit\n",
    "class Animal(object):\n",
    "    pass\n",
    "\n",
    "class Dog(Animal):\n",
    "    def __init__(self, name):\n",
    "    self.name = name\n",
    "\n",
    "class Cat(Animal):\n",
    "    def __init__(self, name):\n",
    "        self.name = name\n"
   ]
  }
 ],
 "metadata": {
  "kernelspec": {
   "display_name": "Python 3",
   "language": "python",
   "name": "python3"
  },
  "language_info": {
   "codemirror_mode": {
    "name": "ipython",
    "version": 3
   },
   "file_extension": ".py",
   "mimetype": "text/x-python",
   "name": "python",
   "nbconvert_exporter": "python",
   "pygments_lexer": "ipython3",
   "version": "3.6.4"
  }
 },
 "nbformat": 4,
 "nbformat_minor": 2
}
