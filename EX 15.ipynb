{
 "cells": [
  {
   "cell_type": "code",
   "execution_count": 1,
   "metadata": {},
   "outputs": [
    {
     "name": "stdout",
     "output_type": "stream",
     "text": [
      "Type the file name again:\n",
      "> ex15.txt\n",
      "hi\n",
      "i\n",
      "like pie\n",
      "\n"
     ]
    }
   ],
   "source": [
    "print(\"Type the file name again:\")\n",
    "# Input a file name\n",
    "file_again = input(\"> \")\n",
    "\n",
    "# This fetches the file\n",
    "txt_again = open(file_again)\n",
    "\n",
    "# Reads the contents of the file\n",
    "print(txt_again.read())"
   ]
  },
  {
   "cell_type": "code",
   "execution_count": null,
   "metadata": {},
   "outputs": [],
   "source": []
  }
 ],
 "metadata": {
  "kernelspec": {
   "display_name": "Python 3",
   "language": "python",
   "name": "python3"
  },
  "language_info": {
   "codemirror_mode": {
    "name": "ipython",
    "version": 3
   },
   "file_extension": ".py",
   "mimetype": "text/x-python",
   "name": "python",
   "nbconvert_exporter": "python",
   "pygments_lexer": "ipython3",
   "version": "3.6.4"
  }
 },
 "nbformat": 4,
 "nbformat_minor": 2
}
