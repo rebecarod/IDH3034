{
 "cells": [
  {
   "cell_type": "code",
   "execution_count": 1,
   "metadata": {},
   "outputs": [
    {
     "name": "stdout",
     "output_type": "stream",
     "text": [
      "How old are you? 19\n",
      "How tall are you? 5'0\n",
      "How much do you weigh? 110\n",
      "So, you're 19 years old, 5'0 tall and 110 heavy.\n"
     ]
    }
   ],
   "source": [
    "# Asks for users age \n",
    "print(\"How old are you?\", end = ' ')\n",
    "# prompts for user input and turns it into a string\n",
    "age = int(input())\n",
    "print(\"How tall are you?\", end = ' ')\n",
    "# Prompts user for height\n",
    "height = input()\n",
    "print(\"How much do you weigh?\", end = ' ')\n",
    "# Prompts user for weight and turns it into a string\n",
    "weight = int(input())\n",
    "\n",
    "print(f\"So, you're {age} years old, {height} tall and {weight} heavy.\")"
   ]
  },
  {
   "cell_type": "code",
   "execution_count": null,
   "metadata": {},
   "outputs": [],
   "source": []
  }
 ],
 "metadata": {
  "kernelspec": {
   "display_name": "Python 3",
   "language": "python",
   "name": "python3"
  },
  "language_info": {
   "codemirror_mode": {
    "name": "ipython",
    "version": 3
   },
   "file_extension": ".py",
   "mimetype": "text/x-python",
   "name": "python",
   "nbconvert_exporter": "python",
   "pygments_lexer": "ipython3",
   "version": "3.6.4"
  }
 },
 "nbformat": 4,
 "nbformat_minor": 2
}
