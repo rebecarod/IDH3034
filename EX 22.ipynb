{
 "cells": [
  {
   "cell_type": "code",
   "execution_count": null,
   "metadata": {},
   "outputs": [],
   "source": [
    "def main(language_file, encoding, errors):\n",
    "line = language_file.readline()\n",
    "if line:\n",
    "    print_line(line, encoding, errors)\n",
    "    return main(language_file, encoding, errors)\n",
    "\n",
    "def print_line(line, encoding, errors):\n",
    "next_lang = line.strip()\n",
    "raw_bytes = next_lang.encode(encoding, errors=errors)\n",
    "cooked_string = raw_bytes.decode(encoding, errors=errors)\n",
    "print(raw_bytes, \"<===>\", cooked_string)\n",
    "languages = open(\"languages.txt\", encoding=\"utf-8\")\n",
    "main(languages, input_encoding, error)"
   ]
  }
 ],
 "metadata": {
  "kernelspec": {
   "display_name": "Python 3",
   "language": "python",
   "name": "python3"
  },
  "language_info": {
   "codemirror_mode": {
    "name": "ipython",
    "version": 3
   },
   "file_extension": ".py",
   "mimetype": "text/x-python",
   "name": "python",
   "nbconvert_exporter": "python",
   "pygments_lexer": "ipython3",
   "version": "3.6.4"
  }
 },
 "nbformat": 4,
 "nbformat_minor": 2
}
