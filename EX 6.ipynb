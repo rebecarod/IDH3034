{
 "cells": [
  {
   "cell_type": "code",
   "execution_count": null,
   "metadata": {},
   "outputs": [],
   "source": [
    "# there are 10 types of people\n",
    "types_of_people = 10\n",
    "\n",
    "# Say that there are 10 types of people\n",
    "x = f\"There are {types_of_people} types of people.\"\n",
    "\n",
    "# Assign the value 'binary' to the variable binary\n",
    "binary = \"binary\"\n",
    "\n",
    "# Assign the value \"don't\" to the variable do_not\n",
    "do_not = \"don't\"\n",
    "\n",
    "# Set y equal to the string \"Those who know binary and those who don't.\"\n",
    "y = f\"Those who know {binary} and those who {do_not}.\"\n",
    "\n",
    "# Output sentences x and y\n",
    "print(x)\n",
    "print(y)\n",
    "\n",
    "# Repeat sentences x and y\n",
    "print(f\"I said: {x}\")\n",
    "print(f\"I also said: '{y}'\")\n",
    "\n",
    "# Boolean statement setting hilarious to 'False'\n",
    "hilarious = False\n",
    "\n",
    "# Assign an empty placeholder \"{}\" at the end of the string to give it a variable later\n",
    "joke_evaluation = \"Isn't that joke so funny?! {}\"\n",
    "\n",
    "# It is false that the joke is funny\n",
    "print(joke_evaluation.format(hilarious))\n",
    "\n",
    "w = \"This is the left side of...\"\n",
    "e = \"a string with a right side\"\n",
    "\n",
    "print(w + e)"
   ]
  }
 ],
 "metadata": {
  "kernelspec": {
   "display_name": "Python 3",
   "language": "python",
   "name": "python3"
  },
  "language_info": {
   "codemirror_mode": {
    "name": "ipython",
    "version": 3
   },
   "file_extension": ".py",
   "mimetype": "text/x-python",
   "name": "python",
   "nbconvert_exporter": "python",
   "pygments_lexer": "ipython3",
   "version": "3.6.4"
  }
 },
 "nbformat": 4,
 "nbformat_minor": 2
}
