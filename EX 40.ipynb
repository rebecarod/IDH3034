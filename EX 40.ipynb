{
 "cells": [
  {
   "cell_type": "code",
   "execution_count": 1,
   "metadata": {},
   "outputs": [
    {
     "name": "stdout",
     "output_type": "stream",
     "text": [
      "Happy birthday to you\n",
      "I dont want to get sued\n",
      "So I'll stop right there.\n",
      "They rally around tha family\n",
      "With pockets full of shells\n",
      "A B C\n",
      "Easy as 1-2-3\n",
      "Simple as Do-re-mi\n"
     ]
    }
   ],
   "source": [
    "# Define a class with one parameter\n",
    "class Song(object):\n",
    "    \n",
    "    def __init__(self, lyrics):\n",
    "        self.lyrics = lyrics\n",
    "    \n",
    "    # Function to sing a song\n",
    "    def sing_me_a_song(self):\n",
    "        # Loop through the parameter called when you init the class\n",
    "        for line in self.lyrics:\n",
    "            # Print what is in each line of the parameter\n",
    "            print(line)\n",
    "\n",
    "# Assign this variable to the Song class\n",
    "happy_bday = Song([\"Happy birthday to you\",\n",
    "                  \"I dont want to get sued\",\n",
    "                  \"So I'll stop right there.\"])\n",
    "# Assign this variable to the Song class\n",
    "bulls_on_parade = Song([\"They rally around tha family\", \n",
    "                       \"With pockets full of shells\"])\n",
    "# Call the sing_me_a_song function.\n",
    "happy_bday.sing_me_a_song()\n",
    "bulls_on_parade.sing_me_a_song()\n",
    "\n",
    "first_verse = \"A B C\"\n",
    "second_verse = \"Easy as 1-2-3\"\n",
    "third_verse = \"Simple as Do-re-mi\"\n",
    "\n",
    "singing = Song([first_verse, second_verse, third_verse])\n",
    "singing.sing_me_a_song()"
   ]
  },
  {
   "cell_type": "code",
   "execution_count": null,
   "metadata": {},
   "outputs": [],
   "source": []
  }
 ],
 "metadata": {
  "kernelspec": {
   "display_name": "Python 3",
   "language": "python",
   "name": "python3"
  },
  "language_info": {
   "codemirror_mode": {
    "name": "ipython",
    "version": 3
   },
   "file_extension": ".py",
   "mimetype": "text/x-python",
   "name": "python",
   "nbconvert_exporter": "python",
   "pygments_lexer": "ipython3",
   "version": "3.6.4"
  }
 },
 "nbformat": 4,
 "nbformat_minor": 2
}
