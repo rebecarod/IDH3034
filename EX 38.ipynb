{
 "cells": [
  {
   "cell_type": "code",
   "execution_count": 1,
   "metadata": {},
   "outputs": [
    {
     "name": "stdout",
     "output_type": "stream",
     "text": [
      "Wait there are not 10 things in that list. Let's fix that.\n",
      "['Apples', 'Oranges', 'Crows', 'Telephone', 'Light', 'Sugar']\n",
      "Adding: Boy\n",
      "There are 7 items now.\n",
      "Adding: Girl\n",
      "There are 8 items now.\n",
      "Adding: Banana\n",
      "There are 9 items now.\n",
      "Adding: Corn\n",
      "There are 10 items now.\n",
      "There we go:  ['Apples', 'Oranges', 'Crows', 'Telephone', 'Light', 'Sugar', 'Boy', 'Girl', 'Banana', 'Corn']\n",
      "Let's do some things with stuff.\n",
      "Oranges\n",
      "Corn\n",
      "Corn\n",
      "Apples Oranges Crows Telephone Light Sugar Boy Girl Banana\n",
      "Telephone#Light\n"
     ]
    }
   ],
   "source": [
    "# String\n",
    "ten_things = \"Apples Oranges Crows Telephone Light Sugar\"\n",
    "\n",
    "print(\"Wait there are not 10 things in that list. Let's fix that.\")\n",
    "\n",
    "# Splits the string into a list divided by the spaces\n",
    "stuff = ten_things.split(' ')\n",
    "print(stuff)\n",
    "# List\n",
    "more_stuff = [\"Day\", \"Night\", \"Song\", \"Frisbee\", \"Corn\", \"Banana\", \"Girl\", \"Boy\"]\n",
    "\n",
    "# While the string is not 10 words\n",
    "while len(stuff) != 10:\n",
    "    # Remove the last item in the second list and save it to a variable called next_one\n",
    "    next_one = more_stuff.pop()\n",
    "    print(\"Adding: \" + next_one)\n",
    "    # Add the last item in the second list to the first list\n",
    "    stuff.append(next_one)\n",
    "    print(f\"There are {len(stuff)} items now.\")\n",
    "    \n",
    "print(\"There we go: \", stuff)\n",
    "print(\"Let's do some things with stuff.\")\n",
    "# Returns the item at index 1 AKA second item in list\n",
    "print(stuff[1])\n",
    "# Returns last item in list\n",
    "print(stuff[-1])\n",
    "# Removes and returns last item in list\n",
    "print(stuff.pop())\n",
    "# Joins list with a space between values\n",
    "print(' '.join(stuff))\n",
    "# Joins list from items in indexes 3 & 4 with a # between them\n",
    "print(\"#\".join(stuff[3:5]))"
   ]
  },
  {
   "cell_type": "code",
   "execution_count": null,
   "metadata": {},
   "outputs": [],
   "source": []
  }
 ],
 "metadata": {
  "kernelspec": {
   "display_name": "Python 3",
   "language": "python",
   "name": "python3"
  },
  "language_info": {
   "codemirror_mode": {
    "name": "ipython",
    "version": 3
   },
   "file_extension": ".py",
   "mimetype": "text/x-python",
   "name": "python",
   "nbconvert_exporter": "python",
   "pygments_lexer": "ipython3",
   "version": "3.6.4"
  }
 },
 "nbformat": 4,
 "nbformat_minor": 2
}
