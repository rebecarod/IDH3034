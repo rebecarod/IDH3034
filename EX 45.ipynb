{
 "cells": [
  {
   "cell_type": "code",
   "execution_count": 17,
   "metadata": {},
   "outputs": [
    {
     "name": "stdout",
     "output_type": "stream",
     "text": [
      "Lets play a game\n",
      "How old are you?\n",
      "> 19\n",
      "19\n",
      "Wow, I WON!\n",
      "19\n",
      "34\n",
      "I think I lost, I'll try again tomorrow\n",
      "38\n",
      "I think I lost, I'll try again tomorrow\n",
      "31\n",
      "I think I lost, I'll try again tomorrow\n",
      "26\n",
      "I think I lost, I'll try again tomorrow\n",
      "18\n",
      "I think I lost, I'll try again tomorrow\n",
      "35\n",
      "I think I lost, I'll try again tomorrow\n",
      "18\n",
      "I think I lost, I'll try again tomorrow\n",
      "19\n",
      "Wow, I WON!\n",
      "19\n",
      "24\n",
      "I think I lost, I'll try again tomorrow\n"
     ]
    }
   ],
   "source": [
    "import random\n",
    "print(\"Lets play a game\")\n",
    "\n",
    "print(\"How old are you?\")\n",
    "age = input('> ')\n",
    "\n",
    "for i in range(10):\n",
    "    guess = random.randint(18,40)\n",
    "    print(guess)\n",
    "    if guess == int(age):\n",
    "        print(\"Wow, I WON!\")\n",
    "        print(guess)\n",
    "    \n",
    "    else:\n",
    "        print(\"I think I lost, I'll try again tomorrow\")"
   ]
  },
  {
   "cell_type": "code",
   "execution_count": null,
   "metadata": {},
   "outputs": [],
   "source": []
  }
 ],
 "metadata": {
  "kernelspec": {
   "display_name": "Python 3",
   "language": "python",
   "name": "python3"
  },
  "language_info": {
   "codemirror_mode": {
    "name": "ipython",
    "version": 3
   },
   "file_extension": ".py",
   "mimetype": "text/x-python",
   "name": "python",
   "nbconvert_exporter": "python",
   "pygments_lexer": "ipython3",
   "version": "3.6.4"
  }
 },
 "nbformat": 4,
 "nbformat_minor": 2
}
