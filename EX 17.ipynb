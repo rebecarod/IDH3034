{
 "cells": [
  {
   "cell_type": "code",
   "execution_count": null,
   "metadata": {},
   "outputs": [],
   "source": [
    "from sys import argv\n",
    "from os.path import exists\n",
    "\n",
    "# User selects which file to get contents of\n",
    "from_file = input(\"Which file would you like to copy from?\")\n",
    "\n",
    "# User selects which file to copy contents to\n",
    "to_file = input(\"Which file would you like to copy to?\")\n",
    "\n",
    "\n",
    "print(f\"Copying from {from_file} to {to_file}\")\n",
    "\n",
    "# We could do this in one line, how?\n",
    "# By specifying read privileges when opening the file\n",
    "in_file = open(from_file, 'r')\n",
    "in_data = in_file.read()\n",
    "\n",
    "# Output the length of bytes in the output file\n",
    "print(f\"The input file is {len(in_data)} bytes long\")\n",
    "\n",
    "# Checks whether file exists\n",
    "print(f\"Does the output file exist? {exists(to_file)}\")\n",
    "print(\"Ready, hit RETURN to continue, CTRL-C to abort.\")\n",
    "input()\n",
    "\n",
    "# Open output file with read/write privileges. This automatically erases previous content in file\n",
    "out_file = open(to_file, 'r+')\n",
    "\n",
    "out_file.write(in_data)\n",
    "\n",
    "print(out_file.read())\n",
    "print(\"All right, all done.\")\n",
    "\n",
    "out_file.close()\n",
    "in_file.close()"
   ]
  }
 ],
 "metadata": {
  "kernelspec": {
   "display_name": "Python 3",
   "language": "python",
   "name": "python3"
  },
  "language_info": {
   "codemirror_mode": {
    "name": "ipython",
    "version": 3
   },
   "file_extension": ".py",
   "mimetype": "text/x-python",
   "name": "python",
   "nbconvert_exporter": "python",
   "pygments_lexer": "ipython3",
   "version": "3.6.4"
  }
 },
 "nbformat": 4,
 "nbformat_minor": 2
}
