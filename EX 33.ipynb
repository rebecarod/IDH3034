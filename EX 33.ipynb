{
 "cells": [
  {
   "cell_type": "code",
   "execution_count": 1,
   "metadata": {},
   "outputs": [
    {
     "name": "stdout",
     "output_type": "stream",
     "text": [
      "At the top of i is 0.\n",
      "Numbers now:  [0]\n",
      "At the bottom of i is 1\n",
      "At the top of i is 1.\n",
      "Numbers now:  [0, 1]\n",
      "At the bottom of i is 2\n",
      "At the top of i is 2.\n",
      "Numbers now:  [0, 1, 2]\n",
      "At the bottom of i is 3\n",
      "At the top of i is 3.\n",
      "Numbers now:  [0, 1, 2, 3]\n",
      "At the bottom of i is 4\n",
      "At the top of i is 4.\n",
      "Numbers now:  [0, 1, 2, 3, 4]\n",
      "At the bottom of i is 5\n",
      "At the top of i is 5.\n",
      "Numbers now:  [0, 1, 2, 3, 4, 5]\n",
      "At the bottom of i is 6\n",
      "The numbers: \n",
      "0\n",
      "1\n",
      "2\n",
      "3\n",
      "4\n",
      "5\n",
      "My function call\n",
      "At the top of the list is 0\n",
      "[0]\n",
      "At the top of the list is 1\n",
      "[0, 1]\n",
      "At the top of the list is 2\n",
      "[0, 1, 2]\n",
      "At the top of the list is 3\n",
      "[0, 1, 2, 3]\n",
      "At the top of the list is 4\n",
      "[0, 1, 2, 3, 4]\n",
      "At the top of the list is 5\n",
      "[0, 1, 2, 3, 4, 5]\n",
      "None\n"
     ]
    }
   ],
   "source": [
    "# Set i = 0\n",
    "i = 0\n",
    "\n",
    "# Create an empty list.\n",
    "numbers = []\n",
    "\n",
    "# While i < 6\n",
    "while i < 6:\n",
    "    # Print the number i is currently at\n",
    "    print(f\"At the top of i is {i}.\")\n",
    "    # Add that number to the numbers list\n",
    "    numbers.append(i)\n",
    "    # Add 1 to i.\n",
    "    i += 1\n",
    "    # Print the current list\n",
    "    print(f\"Numbers now: \", numbers)\n",
    "    # Print the number i is currently at after the increment. when i hits 6, it will not go through the loop anymore.\n",
    "    print(f\"At the bottom of i is {i}\")\n",
    "    \n",
    "print(\"The numbers: \")\n",
    "\n",
    "# starting at element 0, go through all elements in the list 'numbers'\n",
    "for num in numbers:\n",
    "    print(num)\n",
    "    \n",
    "# Study Drill\n",
    "# Convert this while-loop to a function that you can call, and replace 6 in the test (i < 6) with a variable.\n",
    "\n",
    "k = 0\n",
    "# Create an empty list\n",
    "numbers_list = []\n",
    "# Function of the while loop\n",
    "def while_loop(k, var):\n",
    "    while k < var:\n",
    "        print(f\"At the top of the list is {k}\")\n",
    "        numbers_list.append(k)\n",
    "        print(numbers_list)\n",
    "        k += 1\n",
    "\n",
    "print(\"My function call\")\n",
    "# Call the while loop\n",
    "print(while_loop(k, 6))"
   ]
  },
  {
   "cell_type": "code",
   "execution_count": null,
   "metadata": {},
   "outputs": [],
   "source": []
  }
 ],
 "metadata": {
  "kernelspec": {
   "display_name": "Python 3",
   "language": "python",
   "name": "python3"
  },
  "language_info": {
   "codemirror_mode": {
    "name": "ipython",
    "version": 3
   },
   "file_extension": ".py",
   "mimetype": "text/x-python",
   "name": "python",
   "nbconvert_exporter": "python",
   "pygments_lexer": "ipython3",
   "version": "3.6.4"
  }
 },
 "nbformat": 4,
 "nbformat_minor": 2
}
