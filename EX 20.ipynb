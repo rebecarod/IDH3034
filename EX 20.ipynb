{
 "cells": [
  {
   "cell_type": "code",
   "execution_count": 1,
   "metadata": {},
   "outputs": [
    {
     "name": "stdout",
     "output_type": "stream",
     "text": [
      "Select an input file: ex15.txt\n",
      "First let's print the whole file: \n",
      "\n",
      "hi\n",
      "i\n",
      "like pie\n",
      "\n",
      "Now let's rewind, kind of like a tape.\n",
      "Let's print three lines:\n",
      "1 hi\n",
      "\n",
      "2 i\n",
      "\n",
      "3 like pie\n",
      "\n"
     ]
    }
   ],
   "source": [
    "# Asks user to select the input file.\n",
    "input_file = input(\"Select an input file: \")\n",
    "\n",
    "# Function to print contents of file.\n",
    "def print_all(f):\n",
    "    print(f.read())\n",
    "\n",
    "# Function that moves to the beginning of file.\n",
    "def rewind(f):\n",
    "    f.seek(0)\n",
    "\n",
    "    # Function that prints the line number and the line\n",
    "def print_a_line(line_count, f):\n",
    "    print(line_count, f.readline())\n",
    "    \n",
    "current_file = open(input_file)\n",
    "\n",
    "print(\"First let's print the whole file: \\n\")\n",
    "\n",
    "# Prints all of the input file\n",
    "print_all(current_file)\n",
    "\n",
    "# Points cursor to beginning of file\n",
    "print(\"Now let's rewind, kind of like a tape.\")\n",
    "\n",
    "rewind(current_file)\n",
    "\n",
    "print(\"Let's print three lines:\")\n",
    "\n",
    "current_line = 1\n",
    "\n",
    "# Prints line number 1 and its content\n",
    "print_a_line(current_line, current_file)\n",
    "\n",
    "current_line = current_line + 1\n",
    "\n",
    "# Prints line number 2 and its content\n",
    "print_a_line(current_line, current_file)\n",
    "\n",
    "current_line += 1\n",
    "# Prints line number 3 and its content\n",
    "print_a_line(current_line, current_file)"
   ]
  },
  {
   "cell_type": "code",
   "execution_count": null,
   "metadata": {},
   "outputs": [],
   "source": []
  }
 ],
 "metadata": {
  "kernelspec": {
   "display_name": "Python 3",
   "language": "python",
   "name": "python3"
  },
  "language_info": {
   "codemirror_mode": {
    "name": "ipython",
    "version": 3
   },
   "file_extension": ".py",
   "mimetype": "text/x-python",
   "name": "python",
   "nbconvert_exporter": "python",
   "pygments_lexer": "ipython3",
   "version": "3.6.4"
  }
 },
 "nbformat": 4,
 "nbformat_minor": 2
}
