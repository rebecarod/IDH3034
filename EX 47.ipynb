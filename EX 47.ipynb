{
 "cells": [
  {
   "cell_type": "code",
   "execution_count": null,
   "metadata": {},
   "outputs": [],
   "source": [
    "class Room(object):\n",
    "\n",
    "def __init__(self, name, description):\n",
    "    self.name = name\n",
    "    self.description = description\n",
    "    self.paths = {}\n",
    "\n",
    "def go(self, direction):\n",
    "    return self.paths.get(direction, None)\n",
    "\n",
    "def add_paths(self, paths):\n",
    "    self.paths.update(paths)\n"
   ]
  }
 ],
 "metadata": {
  "kernelspec": {
   "display_name": "Python 3",
   "language": "python",
   "name": "python3"
  },
  "language_info": {
   "codemirror_mode": {
    "name": "ipython",
    "version": 3
   },
   "file_extension": ".py",
   "mimetype": "text/x-python",
   "name": "python",
   "nbconvert_exporter": "python",
   "pygments_lexer": "ipython3",
   "version": "3.6.4"
  }
 },
 "nbformat": 4,
 "nbformat_minor": 2
}
