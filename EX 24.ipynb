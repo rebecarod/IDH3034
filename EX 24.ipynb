{
 "cells": [
  {
   "cell_type": "code",
   "execution_count": 1,
   "metadata": {},
   "outputs": [
    {
     "name": "stdout",
     "output_type": "stream",
     "text": [
      "Lets practice everything.\n",
      "You'd need to know 'bout escape sequences with \\ that do:\n",
      "\n",
      "newlines and \t tabs.\n",
      "--------------\n",
      "\n",
      "\tThe lovely world\n",
      "with logic so firmly planted\n",
      "cannot discern \n",
      " the needs of love\n",
      "nor comprehend passion from intuition\n",
      "and requires an explanation\n",
      "\n",
      "\t where there is none.\n",
      "\n",
      "--------------\n",
      "This should be five: 5.\n",
      "With a starting point of: 10000\n",
      "We'd have 5000000 beans, 5000.0 jars, 50.0 crates\n",
      "We can also do it this way:\n",
      "We'd have 500000.0 beans, 500.0 jars, and 5.0 crates\n"
     ]
    }
   ],
   "source": [
    "# Outputs 3 lines of string.\n",
    "print(\"Lets practice everything.\")\n",
    "\n",
    "# Use '\\'' to output a '\n",
    "print('You\\'d need to know \\'bout escape sequences with \\\\ that do:')\n",
    "\n",
    "# \\n starts a new line and \\t indents a new tab\n",
    "print(\"\\nnewlines and \\t tabs.\")\n",
    "\n",
    "# long poem with triple quotes\n",
    "poem = \"\"\"\n",
    "\\tThe lovely world\n",
    "with logic so firmly planted\n",
    "cannot discern \\n the needs of love\n",
    "nor comprehend passion from intuition\n",
    "and requires an explanation\n",
    "\\n\\t where there is none.\n",
    "\"\"\"\n",
    "\n",
    "# Print out the poem\n",
    "print(\"--------------\")\n",
    "print(poem)\n",
    "print(\"--------------\")\n",
    "\n",
    "# Assign the number 5 to variable five\n",
    "five = 10 - 2 + 3 - 6\n",
    "print(f\"This should be five: {five}.\")\n",
    "\n",
    "# function that returns your number of jelly beans, jars, and crates\n",
    "def secret_formula(started):\n",
    "    jelly_beans = started * 500\n",
    "    jars = jelly_beans / 1000\n",
    "    crates = jars / 100\n",
    "    return jelly_beans, jars, crates\n",
    "\n",
    "start_point = 10000\n",
    "\n",
    "# Call the function\n",
    "beans, jars, crates = secret_formula(start_point)\n",
    "\n",
    "print(\"With a starting point of: {}\".format(start_point))\n",
    "\n",
    "print(f\"We'd have {beans} beans, {jars} jars, {crates} crates\")\n",
    "\n",
    "start_point = start_point / 10\n",
    "\n",
    "print(\"We can also do it this way:\")\n",
    "\n",
    "formula = secret_formula(start_point)\n",
    "\n",
    "print(\"We'd have {} beans, {} jars, and {} crates\".format(*formula))"
   ]
  },
  {
   "cell_type": "code",
   "execution_count": null,
   "metadata": {},
   "outputs": [],
   "source": []
  }
 ],
 "metadata": {
  "kernelspec": {
   "display_name": "Python 3",
   "language": "python",
   "name": "python3"
  },
  "language_info": {
   "codemirror_mode": {
    "name": "ipython",
    "version": 3
   },
   "file_extension": ".py",
   "mimetype": "text/x-python",
   "name": "python",
   "nbconvert_exporter": "python",
   "pygments_lexer": "ipython3",
   "version": "3.6.4"
  }
 },
 "nbformat": 4,
 "nbformat_minor": 2
}
