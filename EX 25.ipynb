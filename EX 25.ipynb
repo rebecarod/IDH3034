{
 "cells": [
  {
   "cell_type": "code",
   "execution_count": 1,
   "metadata": {},
   "outputs": [],
   "source": [
    "# Function that will break up words at each space\n",
    "def break_words(stuff):\n",
    "    \"\"\"This function will break up words for us.\"\"\"\n",
    "    # Split at each space\n",
    "    words = stuff.split(' ')\n",
    "    return words\n",
    "\n",
    "# Function that sorts the words\n",
    "def sort_words(words):\n",
    "    \"\"\"Sorts the words\"\"\"\n",
    "    return sorted(words)\n",
    "\n",
    "# Function that will print the first word\n",
    "def print_first_word(words):\n",
    "    \"\"\"Prints the first word after popping it off.\"\"\"\n",
    "    word = words.pop(0)\n",
    "    print(word)\n",
    "    \n",
    "# Function that prints the last word\n",
    "def print_last_word(words):\n",
    "    \"\"\"Prints the last word after popping it off.\"\"\"\n",
    "    word = words.pop(-1)\n",
    "    print(word)\n",
    "    \n",
    "# Function that sorts all words in a sentence\n",
    "def sort_sentence(sentence):\n",
    "    \"\"\"Takes in a full sentence and returns the sorted words.\"\"\"\n",
    "    words = break_words(sentence)\n",
    "    return sort_words(words)\n",
    "\n",
    "# Function that will return the first and last words\n",
    "def print_first_and_last(sentence):\n",
    "    \"\"\"Prints the first and last words of a sentence.\"\"\"\n",
    "    words = break_words(sentence)\n",
    "    print_first_word(words)\n",
    "    print_last_word(words)\n",
    "    \n",
    "def print_first_and_last_sorted(sentence):\n",
    "    \"\"\"Sorts the words then prints the first and last ones.\"\"\"\n",
    "    words = sort_sentence(sentence)\n",
    "    print_first_word(words)\n",
    "    print_last_word(words)\n",
    "    "
   ]
  },
  {
   "cell_type": "code",
   "execution_count": 2,
   "metadata": {},
   "outputs": [
    {
     "data": {
      "text/plain": [
       "['All', 'good', 'things', 'come', 'to', 'those', 'who', 'wait']"
      ]
     },
     "execution_count": 2,
     "metadata": {},
     "output_type": "execute_result"
    }
   ],
   "source": [
    "sentence = \"All good things come to those who wait\"\n",
    "\n",
    "# Splits up each word in sentence\n",
    "words = break_words(sentence)\n",
    "\n",
    "words"
   ]
  },
  {
   "cell_type": "code",
   "execution_count": 3,
   "metadata": {},
   "outputs": [
    {
     "data": {
      "text/plain": [
       "['All', 'come', 'good', 'things', 'those', 'to', 'wait', 'who']"
      ]
     },
     "execution_count": 3,
     "metadata": {},
     "output_type": "execute_result"
    }
   ],
   "source": [
    "sorted_words = sort_words(words)\n",
    "\n",
    "# Sorts each split word in sentence by alphabetical order\n",
    "sorted_words"
   ]
  },
  {
   "cell_type": "code",
   "execution_count": 4,
   "metadata": {},
   "outputs": [
    {
     "name": "stdout",
     "output_type": "stream",
     "text": [
      "All\n",
      "wait\n"
     ]
    },
    {
     "data": {
      "text/plain": [
       "['good', 'things', 'come', 'to', 'those', 'who']"
      ]
     },
     "execution_count": 4,
     "metadata": {},
     "output_type": "execute_result"
    }
   ],
   "source": [
    "# Prints and removes (pops) first word in sentence\n",
    "print_first_word(words)\n",
    "\n",
    "# Prints and removes (pops) last word in sentence\n",
    "print_last_word(words)\n",
    "\n",
    "words"
   ]
  },
  {
   "cell_type": "code",
   "execution_count": 5,
   "metadata": {},
   "outputs": [
    {
     "name": "stdout",
     "output_type": "stream",
     "text": [
      "All\n",
      "who\n"
     ]
    },
    {
     "data": {
      "text/plain": [
       "['come', 'good', 'things', 'those', 'to', 'wait']"
      ]
     },
     "execution_count": 5,
     "metadata": {},
     "output_type": "execute_result"
    }
   ],
   "source": [
    "# Prints and removes (pops) first word in sorted sentence\n",
    "print_first_word(sorted_words)\n",
    "\n",
    "# Prints and removes (pops) last word in sorted sentence\n",
    "print_last_word(sorted_words)\n",
    "\n",
    "sorted_words"
   ]
  },
  {
   "cell_type": "code",
   "execution_count": 6,
   "metadata": {},
   "outputs": [
    {
     "data": {
      "text/plain": [
       "['All', 'come', 'good', 'things', 'those', 'to', 'wait', 'who']"
      ]
     },
     "execution_count": 6,
     "metadata": {},
     "output_type": "execute_result"
    }
   ],
   "source": [
    "sorted_words = sort_sentence(sentence)\n",
    "\n",
    "sorted_words"
   ]
  },
  {
   "cell_type": "code",
   "execution_count": 7,
   "metadata": {},
   "outputs": [
    {
     "name": "stdout",
     "output_type": "stream",
     "text": [
      "All\n",
      "wait\n",
      "All\n",
      "who\n"
     ]
    }
   ],
   "source": [
    "print_first_and_last(sentence)\n",
    "\n",
    "print_first_and_last_sorted(sentence)"
   ]
  },
  {
   "cell_type": "code",
   "execution_count": null,
   "metadata": {},
   "outputs": [],
   "source": []
  }
 ],
 "metadata": {
  "kernelspec": {
   "display_name": "Python 3",
   "language": "python",
   "name": "python3"
  },
  "language_info": {
   "codemirror_mode": {
    "name": "ipython",
    "version": 3
   },
   "file_extension": ".py",
   "mimetype": "text/x-python",
   "name": "python",
   "nbconvert_exporter": "python",
   "pygments_lexer": "ipython3",
   "version": "3.6.4"
  }
 },
 "nbformat": 4,
 "nbformat_minor": 2
}
