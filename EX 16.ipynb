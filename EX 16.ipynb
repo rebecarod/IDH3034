{
 "cells": [
  {
   "cell_type": "code",
   "execution_count": 1,
   "metadata": {},
   "outputs": [
    {
     "name": "stdout",
     "output_type": "stream",
     "text": [
      "We're going to erase ex16.txt\n",
      "If you don't want that, hit CTRL-C (^C).\n",
      "If you do want that, hit RETURN\n",
      "?\n",
      "Opening the file...\n",
      "Truncating the file. Goodbye!\n",
      "Now I'm going to ask you for three lines.\n",
      "Line 1:Hello\n",
      "Line 2:How Are\n",
      "Line 3:You\n",
      "I'm going to write these to the file.\n",
      "Output of the file:\n",
      "\n",
      "And finally, we close it.\n"
     ]
    }
   ],
   "source": [
    "from sys import argv\n",
    "\n",
    "# script, ex15.txt = argv\n",
    "\n",
    "# This select the file you will use\n",
    "filename = \"ex16.txt\"\n",
    "\n",
    "# Informs the user of what we will do\n",
    "print(f\"We're going to erase {filename}\")\n",
    "print(\"If you don't want that, hit CTRL-C (^C).\")\n",
    "print(\"If you do want that, hit RETURN\")\n",
    "\n",
    "# Asks for user unput\n",
    "input(\"?\")\n",
    "\n",
    "print(\"Opening the file...\")\n",
    "\n",
    "# Opens the file with read/write privileges\n",
    "target = open(filename, 'r+')\n",
    "\n",
    "print(\"Truncating the file. Goodbye!\")\n",
    "\n",
    "# Truncates the file AKA erases it.\n",
    "target.truncate()\n",
    "\n",
    "# Asks user for more input\n",
    "print(\"Now I'm going to ask you for three lines.\")\n",
    "\n",
    "line1 = input(\"Line 1:\")\n",
    "line2 = input(\"Line 2:\")\n",
    "line3 = input(\"Line 3:\")\n",
    "\n",
    "print(\"I'm going to write these to the file.\")\n",
    "\n",
    "# Writes all user input to file\n",
    "target.write(line1 + \"\\n\" + line2 + \"\\n\" + line3)\n",
    "\n",
    "# Prints out contents of file.\n",
    "print(\"Output of the file:\")\n",
    "print(target.read())\n",
    "\n",
    "# Saves file\n",
    "print(\"And finally, we close it.\")\n",
    "target.close()"
   ]
  },
  {
   "cell_type": "code",
   "execution_count": null,
   "metadata": {},
   "outputs": [],
   "source": []
  }
 ],
 "metadata": {
  "kernelspec": {
   "display_name": "Python 3",
   "language": "python",
   "name": "python3"
  },
  "language_info": {
   "codemirror_mode": {
    "name": "ipython",
    "version": 3
   },
   "file_extension": ".py",
   "mimetype": "text/x-python",
   "name": "python",
   "nbconvert_exporter": "python",
   "pygments_lexer": "ipython3",
   "version": "3.6.4"
  }
 },
 "nbformat": 4,
 "nbformat_minor": 2
}
