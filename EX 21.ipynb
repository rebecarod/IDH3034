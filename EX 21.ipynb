{
 "cells": [
  {
   "cell_type": "code",
   "execution_count": 1,
   "metadata": {},
   "outputs": [
    {
     "name": "stdout",
     "output_type": "stream",
     "text": [
      "Lets do some math with just functions!\n",
      "ADDING 30 + 5\n",
      "SUBTRACTING 78 - 4\n",
      "MULTIPLYING 90 - 2\n",
      "DIVIDING 100 / 2\n",
      "Age: 35\n",
      "Age: 35, Height: 74, Weight: 180, IQ: 50.0\n",
      "Here is a puzzle.\n",
      "DIVIDING 50.0 / 2\n",
      "MULTIPLYING 180 - 25.0\n",
      "SUBTRACTING 74 - 4500.0\n",
      "ADDING 35 + -4426.0\n",
      "That becomes  -4391.0  \n",
      "Can you do it by hand?\n"
     ]
    }
   ],
   "source": [
    "# Function that adds 2 numbers\n",
    "def add(a,b):\n",
    "    print(f\"ADDING {a} + {b}\")\n",
    "    return a + b\n",
    "\n",
    "# Function that subtracts two numbers\n",
    "def subtract(a,b):\n",
    "    print(f\"SUBTRACTING {a} - {b}\")\n",
    "    return a - b\n",
    "\n",
    "# Function that multiplies two numbers\n",
    "def multiply(a,b):\n",
    "    print(f\"MULTIPLYING {a} - {b}\")\n",
    "    return a * b\n",
    "\n",
    "# Function that divides two numbers\n",
    "def divide(a,b):\n",
    "    print(f\"DIVIDING {a} / {b}\")\n",
    "    return a / b\n",
    "\n",
    "\n",
    "print(\"Lets do some math with just functions!\")\n",
    "\n",
    "# Calls add function\n",
    "age = add(30, 5)\n",
    "\n",
    "# Calls 'subtract' function\n",
    "height = subtract(78, 4)\n",
    "\n",
    "# Calls 'multiply' function\n",
    "weight = multiply(90, 2)\n",
    "\n",
    "# Calls 'divide' function\n",
    "iq = divide(100, 2)\n",
    "\n",
    "# A way to print variables without printf. Must convert the int to string first via str(VARIABLE)\n",
    "age1 = str(age)\n",
    "print(\"Age: \" + age1)\n",
    "\n",
    "# Outputs the function values\n",
    "print(f\"Age: {age}, Height: {height}, Weight: {weight}, IQ: {iq}\")\n",
    "\n",
    "print(\"Here is a puzzle.\")\n",
    "\n",
    "what = add(age, subtract(height, multiply(weight, divide(iq, 2))))\n",
    "\n",
    "print(\"That becomes \", what, \" \\nCan you do it by hand?\")"
   ]
  },
  {
   "cell_type": "code",
   "execution_count": null,
   "metadata": {},
   "outputs": [],
   "source": []
  }
 ],
 "metadata": {
  "kernelspec": {
   "display_name": "Python 3",
   "language": "python",
   "name": "python3"
  },
  "language_info": {
   "codemirror_mode": {
    "name": "ipython",
    "version": 3
   },
   "file_extension": ".py",
   "mimetype": "text/x-python",
   "name": "python",
   "nbconvert_exporter": "python",
   "pygments_lexer": "ipython3",
   "version": "3.6.4"
  }
 },
 "nbformat": 4,
 "nbformat_minor": 2
}
