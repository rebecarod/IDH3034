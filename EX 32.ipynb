{
 "cells": [
  {
   "cell_type": "code",
   "execution_count": 1,
   "metadata": {},
   "outputs": [
    {
     "name": "stdout",
     "output_type": "stream",
     "text": [
      "This is count number 1.\n",
      "This is count number 2.\n",
      "This is count number 3.\n",
      "This is count number 4.\n",
      "This is count number 5.\n",
      "A fruit of type: apples\n",
      "A fruit of type: oranges\n",
      "A fruit of type: pears\n",
      "A fruit of type: apricots\n",
      "I got 1\n",
      "I got pennies\n",
      "I got 2\n",
      "I got dimes\n",
      "I got 3\n",
      "I got quarters\n",
      "Adding 0 to the list.\n",
      "Adding 1 to the list.\n",
      "Adding 2 to the list.\n",
      "Adding 3 to the list.\n",
      "Adding 4 to the list.\n",
      "Adding 5 to the list.\n",
      "Element was: 0\n",
      "Element was: 1\n",
      "Element was: 2\n",
      "Element was: 3\n",
      "Element was: 4\n",
      "Element was: 5\n",
      "[0, 1, 2, 3, 4, 5]\n"
     ]
    }
   ],
   "source": [
    "# Make a list of numbers 1 - 5\n",
    "the_count = [1, 2, 3, 4, 5]\n",
    "# Make a list of different fruits\n",
    "fruits = ['apples', 'oranges', 'pears', 'apricots']\n",
    "# Make a list of numbers and coin names\n",
    "change = [1, 'pennies', 2, 'dimes', 3, 'quarters']\n",
    "\n",
    "# Goes through all the elements in list 'the_count'\n",
    "for number in the_count:\n",
    "    print(f\"This is count number {number}.\")\n",
    "\n",
    "# Goes through all the elements in list 'fruits'\n",
    "for fruit in fruits:\n",
    "    print(f\"A fruit of type: {fruit}\")\n",
    "    \n",
    "# Goes through all the elements in list 'change'\n",
    "for i in change:\n",
    "    print(f\"I got {i}\")\n",
    "    \n",
    "# Creates an empty list.\n",
    "elements = []\n",
    "\n",
    "# Will start at 0 and go through all the numbers until it reaches 5. DOES NOT include the stopping number.\n",
    "# Can be thought of as [0,6)\n",
    "for i in range(0, 6):\n",
    "    print(f\"Adding {i} to the list.\")\n",
    "    # Append i to empty list\n",
    "    elements.append(i)\n",
    "    \n",
    "for i in elements:\n",
    "    print(f\"Element was: {i}\")\n",
    "    \n",
    "# Print now-populated list\n",
    "print(elements)"
   ]
  },
  {
   "cell_type": "code",
   "execution_count": null,
   "metadata": {},
   "outputs": [],
   "source": []
  }
 ],
 "metadata": {
  "kernelspec": {
   "display_name": "Python 3",
   "language": "python",
   "name": "python3"
  },
  "language_info": {
   "codemirror_mode": {
    "name": "ipython",
    "version": 3
   },
   "file_extension": ".py",
   "mimetype": "text/x-python",
   "name": "python",
   "nbconvert_exporter": "python",
   "pygments_lexer": "ipython3",
   "version": "3.6.4"
  }
 },
 "nbformat": 4,
 "nbformat_minor": 2
}
